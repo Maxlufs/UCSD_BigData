{
 "metadata": {
  "name": ""
 },
 "nbformat": 3,
 "nbformat_minor": 0,
 "worksheets": [
  {
   "cells": [
    {
     "cell_type": "heading",
     "level": 1,
     "metadata": {},
     "source": [
      "Introduction to Machine Learning in Python"
     ]
    },
    {
     "cell_type": "markdown",
     "metadata": {},
     "source": [
      "In this section we'll go through some preliminary topics, as well as some of the\n",
      "requirements for this tutorial.\n",
      "\n",
      "By the end of this section you should:\n",
      "\n",
      "- Know what sort of tasks qualify as Machine Learning problems.\n",
      "- See some simple examples of machine learning\n",
      "- Know the basics of creating and manipulating numpy arrays.\n",
      "- Know the basics of scatter plots in matplotlib."
     ]
    },
    {
     "cell_type": "heading",
     "level": 2,
     "metadata": {},
     "source": [
      "What is Machine Learning?"
     ]
    },
    {
     "cell_type": "markdown",
     "metadata": {},
     "source": [
      "In this section we will begin to explore the basic principles of machine learning.\n",
      "Machine Learning is about building programs with **tunable parameters** (typically an\n",
      "array of floating point values) that are adjusted automatically so as to improve\n",
      "their behavior by **adapting to previously seen data.**\n",
      "\n",
      "Machine Learning can be considered a subfield of **Artificial Intelligence** since those\n",
      "algorithms can be seen as building blocks to make computers learn to behave more\n",
      "intelligently by somehow **generalizing** rather that just storing and retrieving data items\n",
      "like a database system would do.\n",
      "\n",
      "We'll take a look at two very simple machine learning tasks here.\n",
      "The first is a **classification** task: the figure shows a\n",
      "collection of two-dimensional data, colored according to two different class\n",
      "labels. A classification algorithm may be used to draw a dividing boundary\n",
      "between the two clusters of points:"
     ]
    },
    {
     "cell_type": "code",
     "collapsed": false,
     "input": [
      "# Start pylab inline mode, so figures will appear in the notebook\n",
      "%pylab inline"
     ],
     "language": "python",
     "metadata": {},
     "outputs": [
      {
       "output_type": "stream",
       "stream": "stdout",
       "text": [
        "Populating the interactive namespace from numpy and matplotlib\n"
       ]
      }
     ],
     "prompt_number": 1
    },
    {
     "cell_type": "code",
     "collapsed": false,
     "input": [
      "# Import the example plot from the figures directory\n",
      "from figures import plot_sgd_separator\n",
      "plot_sgd_separator()"
     ],
     "language": "python",
     "metadata": {},
     "outputs": [
      {
       "metadata": {},
       "output_type": "display_data",
       "png": "[encoded data removed]",
       "text": [
        "<matplotlib.figure.Figure at 0x2122810>"
       ]
      }
     ],
     "prompt_number": 2
    },
    {
     "cell_type": "markdown",
     "metadata": {},
     "source": [
      "This may seem like a trivial task, but it is a simple version of a very important concept.\n",
      "By drawing this separating line, we have learned a model which can **generalize** to new\n",
      "data: if you were to drop another point onto the plane which is unlabeled, this algorithm\n",
      "could now **predict** whether it's a blue or a red point.\n",
      "\n",
      "If you'd like to see the source code used to generate this, you can either open the\n",
      "code in the `figures` directory, or you can load the code using the `%load` magic command:"
     ]
    },
    {
     "cell_type": "code",
     "collapsed": false,
     "input": [
      "%load figures/sgd_separator.py"
     ],
     "language": "python",
     "metadata": {},
     "outputs": [],
     "prompt_number": 3
    },
    {
     "cell_type": "code",
     "collapsed": false,
     "input": [
      "import numpy as np\n",
      "import matplotlib.pyplot as plt\n",
      "from sklearn.linear_model import SGDClassifier\n",
      "from sklearn.datasets.samples_generator import make_blobs\n",
      "\n",
      "def plot_sgd_separator():\n",
      "    # we create 50 separable points\n",
      "    X, Y = make_blobs(n_samples=50, centers=2,\n",
      "                      random_state=0, cluster_std=0.60)\n",
      "\n",
      "    # fit the model\n",
      "    clf = SGDClassifier(loss=\"hinge\", alpha=0.01,\n",
      "                        n_iter=200, fit_intercept=True)\n",
      "    clf.fit(X, Y)\n",
      "\n",
      "    # plot the line, the points, and the nearest vectors to the plane\n",
      "    xx = np.linspace(-1, 5, 10)\n",
      "    yy = np.linspace(-1, 5, 10)\n",
      "\n",
      "    X1, X2 = np.meshgrid(xx, yy)\n",
      "    Z = np.empty(X1.shape)\n",
      "    for (i, j), val in np.ndenumerate(X1):\n",
      "        x1 = val\n",
      "        x2 = X2[i, j]\n",
      "        p = clf.decision_function([x1, x2])\n",
      "        Z[i, j] = p[0]\n",
      "    levels = [-1.0, 0.0, 1.0]\n",
      "    linestyles = ['dashed', 'solid', 'dashed']\n",
      "    colors = 'k'\n",
      "\n",
      "    ax = plt.axes()\n",
      "    ax.contour(X1, X2, Z, levels, colors=colors, linestyles=linestyles)\n",
      "    ax.scatter(X[:, 0], X[:, 1], c=Y, cmap=plt.cm.Paired)\n",
      "\n",
      "    ax.axis('tight')\n",
      "\n",
      "\n",
      "if __name__ == '__main__':\n",
      "    plot_sgd_separator()\n",
      "    plt.show()\n"
     ],
     "language": "python",
     "metadata": {},
     "outputs": [
      {
       "metadata": {},
       "output_type": "display_data",
       "png": "[encoded data removed]",
       "text": [
        "<matplotlib.figure.Figure at 0x2b93c90>"
       ]
      }
     ],
     "prompt_number": 4
    },
    {
     "cell_type": "markdown",
     "metadata": {},
     "source": [
      "The next simple task we'll look at is a **regression** task: a simple best-fit line\n",
      "to a set of data:"
     ]
    },
    {
     "cell_type": "code",
     "collapsed": false,
     "input": [
      "from figures import plot_linear_regression\n",
      "plot_linear_regression()"
     ],
     "language": "python",
     "metadata": {},
     "outputs": [
      {
       "metadata": {},
       "output_type": "display_data",
       "png": "[encoded data removed]",
       "text": [
        "<matplotlib.figure.Figure at 0x2d78a90>"
       ]
      }
     ],
     "prompt_number": 5
    },
    {
     "cell_type": "markdown",
     "metadata": {},
     "source": [
      "Again, this is an example of fitting a model to data, such that the model can make\n",
      "generalizations about new data.  The model has been **learned** from the training\n",
      "data, and can be used to predict the result of test data:\n",
      "here, we might be given an x-value, and the model would\n",
      "allow us to predict the y value.  Again, this might seem like a trivial problem,\n",
      "but it is a basic example of a type of operation that is fundamental to\n",
      "machine learning tasks."
     ]
    },
    {
     "cell_type": "heading",
     "level": 2,
     "metadata": {},
     "source": [
      "Numpy"
     ]
    },
    {
     "cell_type": "markdown",
     "metadata": {},
     "source": [
      "Manipulating `numpy` arrays is an important part of doing machine learning\n",
      "(or, really, any type of scientific computation) in python.  This will likely\n",
      "be review for most: we'll quickly go through some of the most important features."
     ]
    },
    {
     "cell_type": "code",
     "collapsed": false,
     "input": [
      "import numpy as np\n",
      "\n",
      "# Generating a random array\n",
      "X = np.random.random((3, 5))  # a 3 x 5 array\n",
      "\n",
      "print X"
     ],
     "language": "python",
     "metadata": {},
     "outputs": [
      {
       "output_type": "stream",
       "stream": "stdout",
       "text": [
        "[[ 0.43712038  0.71532797  0.17518762  0.30287555  0.85046343]\n",
        " [ 0.08097275  0.27209909  0.58999622  0.20963529  0.20089531]\n",
        " [ 0.51700814  0.07975108  0.91781832  0.5044413   0.51622523]]\n"
       ]
      }
     ],
     "prompt_number": 9
    },
    {
     "cell_type": "code",
     "collapsed": false,
     "input": [
      "# Accessing elements\n",
      "\n",
      "# get a single element\n",
      "print X[0, 0]\n",
      "\n",
      "# get a row\n",
      "print X[1]\n",
      "\n",
      "# get a column\n",
      "print X[:, 1]"
     ],
     "language": "python",
     "metadata": {},
     "outputs": [
      {
       "output_type": "stream",
       "stream": "stdout",
       "text": [
        "0.437120376552\n",
        "[ 0.08097275  0.27209909  0.58999622  0.20963529  0.20089531]\n",
        "[ 0.71532797  0.27209909  0.07975108]\n"
       ]
      }
     ],
     "prompt_number": 10
    },
    {
     "cell_type": "code",
     "collapsed": false,
     "input": [
      "# Transposing an array\n",
      "print X.T"
     ],
     "language": "python",
     "metadata": {},
     "outputs": [
      {
       "output_type": "stream",
       "stream": "stdout",
       "text": [
        "[[ 0.43712038  0.08097275  0.51700814]\n",
        " [ 0.71532797  0.27209909  0.07975108]\n",
        " [ 0.17518762  0.58999622  0.91781832]\n",
        " [ 0.30287555  0.20963529  0.5044413 ]\n",
        " [ 0.85046343  0.20089531  0.51622523]]\n"
       ]
      }
     ],
     "prompt_number": 11
    },
    {
     "cell_type": "code",
     "collapsed": false,
     "input": [
      "# Turning a row vector into a column vector\n",
      "y = np.linspace(0, 12, 5)\n",
      "print y\n",
      "\n",
      "# make into a column vector\n",
      "print y[:, np.newaxis]"
     ],
     "language": "python",
     "metadata": {},
     "outputs": [
      {
       "output_type": "stream",
       "stream": "stdout",
       "text": [
        "[  0.   3.   6.   9.  12.]\n",
        "[[  0.]\n",
        " [  3.]\n",
        " [  6.]\n",
        " [  9.]\n",
        " [ 12.]]\n"
       ]
      }
     ],
     "prompt_number": 17
    },
    {
     "cell_type": "markdown",
     "metadata": {},
     "source": [
      "There is much, much more to know, but these few operations are fundamental to what we'll\n",
      "do during this tutorial."
     ]
    },
    {
     "cell_type": "heading",
     "level": 2,
     "metadata": {},
     "source": [
      "Scipy Sparse Matrices"
     ]
    },
    {
     "cell_type": "markdown",
     "metadata": {},
     "source": [
      "We won't make very much use of these in this tutorial, but sparse matrices are very nice\n",
      "in some situations.  For example, in some machine learning tasks, especially those associated\n",
      "with textual analysis, the data may be mostly zeros.  Storing all these zeros is very\n",
      "inefficient.  We can create and manipulate sparse matrices as follows:"
     ]
    },
    {
     "cell_type": "code",
     "collapsed": false,
     "input": [
      "from scipy import sparse\n",
      "\n",
      "# Create a random array with a lot of zeros\n",
      "X = np.random.random((10, 5))\n",
      "print X\n",
      "X[X < 0.7] = 0\n",
      "print X"
     ],
     "language": "python",
     "metadata": {},
     "outputs": [
      {
       "output_type": "stream",
       "stream": "stdout",
       "text": [
        "[[ 0.00472725  0.03857361  0.67535901  0.43673821  0.07072695]\n",
        " [ 0.33614412  0.53784619  0.94294251  0.68881343  0.4418165 ]\n",
        " [ 0.82385119  0.3371541   0.53700225  0.26229335  0.35314132]\n",
        " [ 0.19786025  0.86380247  0.21594393  0.87452021  0.20796148]\n",
        " [ 0.40182247  0.71632199  0.93907327  0.5876069   0.19281079]\n",
        " [ 0.91751961  0.30300085  0.95534221  0.92263823  0.62755998]\n",
        " [ 0.79955746  0.31666865  0.93900889  0.15097766  0.27429908]\n",
        " [ 0.958114    0.42331708  0.74431531  0.96088425  0.09124018]\n",
        " [ 0.5921475   0.67223896  0.61505403  0.50002309  0.64803181]\n",
        " [ 0.29113728  0.16409745  0.31018953  0.34715279  0.97150106]]\n",
        "[[ 0.          0.          0.          0.          0.        ]\n",
        " [ 0.          0.          0.94294251  0.          0.        ]\n",
        " [ 0.82385119  0.          0.          0.          0.        ]\n",
        " [ 0.          0.86380247  0.          0.87452021  0.        ]\n",
        " [ 0.          0.71632199  0.93907327  0.          0.        ]\n",
        " [ 0.91751961  0.          0.95534221  0.92263823  0.        ]\n",
        " [ 0.79955746  0.          0.93900889  0.          0.        ]\n",
        " [ 0.958114    0.          0.74431531  0.96088425  0.        ]\n",
        " [ 0.          0.          0.          0.          0.        ]\n",
        " [ 0.          0.          0.          0.          0.97150106]]\n"
       ]
      }
     ],
     "prompt_number": 18
    },
    {
     "cell_type": "code",
     "collapsed": false,
     "input": [
      "# turn X into a csr (Compressed-Sparse-Row) matrix\n",
      "X_csr = sparse.csr_matrix(X)\n",
      "print X_csr"
     ],
     "language": "python",
     "metadata": {},
     "outputs": [
      {
       "output_type": "stream",
       "stream": "stdout",
       "text": [
        "  (1, 2)\t0.942942510147\n",
        "  (2, 0)\t0.823851188994\n",
        "  (3, 1)\t0.863802474606\n",
        "  (3, 3)\t0.87452020859\n",
        "  (4, 1)\t0.716321986631\n",
        "  (4, 2)\t0.939073266537\n",
        "  (5, 0)\t0.91751960688\n",
        "  (5, 2)\t0.955342206768\n",
        "  (5, 3)\t0.922638234021\n",
        "  (6, 0)\t0.799557464952\n",
        "  (6, 2)\t0.939008893791\n",
        "  (7, 0)\t0.958114001212\n",
        "  (7, 2)\t0.744315311397\n",
        "  (7, 3)\t0.960884253566\n",
        "  (9, 4)\t0.971501056063\n"
       ]
      }
     ],
     "prompt_number": 19
    },
    {
     "cell_type": "code",
     "collapsed": false,
     "input": [
      "# convert the sparse matrix to a dense array\n",
      "print X_csr.toarray()"
     ],
     "language": "python",
     "metadata": {},
     "outputs": [
      {
       "output_type": "stream",
       "stream": "stdout",
       "text": [
        "[[ 0.          0.          0.          0.          0.        ]\n",
        " [ 0.          0.          0.94294251  0.          0.        ]\n",
        " [ 0.82385119  0.          0.          0.          0.        ]\n",
        " [ 0.          0.86380247  0.          0.87452021  0.        ]\n",
        " [ 0.          0.71632199  0.93907327  0.          0.        ]\n",
        " [ 0.91751961  0.          0.95534221  0.92263823  0.        ]\n",
        " [ 0.79955746  0.          0.93900889  0.          0.        ]\n",
        " [ 0.958114    0.          0.74431531  0.96088425  0.        ]\n",
        " [ 0.          0.          0.          0.          0.        ]\n",
        " [ 0.          0.          0.          0.          0.97150106]]\n"
       ]
      }
     ],
     "prompt_number": 43
    },
    {
     "cell_type": "markdown",
     "metadata": {},
     "source": [
      "The CSR representation can be very efficient for computations, but it is not\n",
      "as good for adding elements.  For that, the LIL (List-In-List) representation\n",
      "is better:"
     ]
    },
    {
     "cell_type": "code",
     "collapsed": false,
     "input": [
      "# Create an empty LIL matrix and add some items\n",
      "X_lil = sparse.lil_matrix((5, 5))\n",
      "\n",
      "for i, j in np.random.randint(0, 5, (15, 2)):\n",
      "    X_lil[i, j] = i + j\n",
      "\n",
      "print X_lil\n",
      "print X_lil.toarray()"
     ],
     "language": "python",
     "metadata": {},
     "outputs": [
      {
       "output_type": "stream",
       "stream": "stdout",
       "text": [
        "  (0, 2)\t2.0\n",
        "  (0, 3)\t3.0\n",
        "  (1, 1)\t2.0\n",
        "  (1, 3)\t4.0\n",
        "  (2, 2)\t4.0\n",
        "  (2, 4)\t6.0\n",
        "  (3, 1)\t4.0\n",
        "  (3, 2)\t5.0\n",
        "  (4, 0)\t4.0\n",
        "  (4, 1)\t5.0\n",
        "  (4, 2)\t6.0\n",
        "  (4, 4)\t8.0\n",
        "[[ 0.  0.  2.  3.  0.]\n",
        " [ 0.  2.  0.  4.  0.]\n",
        " [ 0.  0.  4.  0.  6.]\n",
        " [ 0.  4.  5.  0.  0.]\n",
        " [ 4.  5.  6.  0.  8.]]\n"
       ]
      }
     ],
     "prompt_number": 44
    },
    {
     "cell_type": "markdown",
     "metadata": {},
     "source": [
      "Often, once an LIL matrix is created, it is useful to convert it to a CSR format\n",
      "(many scikit-learn algorithms require CSR or CSC format)"
     ]
    },
    {
     "cell_type": "code",
     "collapsed": false,
     "input": [
      "X_csr = X_lil.tocsr()\n",
      "print X_csr"
     ],
     "language": "python",
     "metadata": {},
     "outputs": []
    },
    {
     "cell_type": "markdown",
     "metadata": {},
     "source": [
      "There are several other sparse formats that can be useful for various problems:\n",
      "\n",
      "- `CSC` (compressed sparse column)\n",
      "- `BSR` (block sparse row)\n",
      "- `COO` (coordinate)\n",
      "- `DIA` (diagonal)\n",
      "- `DOK` (dictionary of keys)\n",
      "\n",
      "The ``scipy.sparse`` submodule also has a lot of functions for sparse matrices\n",
      "including linear algebra, sparse solvers, graph algorithms, and much more."
     ]
    },
    {
     "cell_type": "heading",
     "level": 2,
     "metadata": {},
     "source": [
      "Matplotlib"
     ]
    },
    {
     "cell_type": "markdown",
     "metadata": {},
     "source": [
      "Another important part of machine learning is visualization of data.  The most common\n",
      "tool for this in Python is `matplotlib`.  It is an extremely flexible package, but\n",
      "we will go over some basics here.\n",
      "\n",
      "First, something special to IPython notebook.  We can turn on the \"IPython inline\" mode,\n",
      "which will make plots show up inline in the notebook."
     ]
    },
    {
     "cell_type": "code",
     "collapsed": false,
     "input": [
      "%pylab inline"
     ],
     "language": "python",
     "metadata": {},
     "outputs": []
    },
    {
     "cell_type": "code",
     "collapsed": false,
     "input": [
      "import matplotlib.pyplot as plt"
     ],
     "language": "python",
     "metadata": {},
     "outputs": []
    },
    {
     "cell_type": "code",
     "collapsed": false,
     "input": [
      "# plotting a line\n",
      "\n",
      "x = np.linspace(0, 10, 100)\n",
      "plt.plot(x, np.sin(x))"
     ],
     "language": "python",
     "metadata": {},
     "outputs": []
    },
    {
     "cell_type": "code",
     "collapsed": false,
     "input": [
      "# scatter-plot points\n",
      "\n",
      "x = np.random.normal(size=500)\n",
      "y = np.random.normal(size=500)\n",
      "plt.scatter(x, y)"
     ],
     "language": "python",
     "metadata": {},
     "outputs": []
    },
    {
     "cell_type": "code",
     "collapsed": false,
     "input": [
      "# showing images\n",
      "x = np.linspace(1, 12, 100)\n",
      "y = x[:, np.newaxis]\n",
      "\n",
      "im = y * np.sin(x) * np.cos(y)\n",
      "print im.shape"
     ],
     "language": "python",
     "metadata": {},
     "outputs": []
    },
    {
     "cell_type": "code",
     "collapsed": false,
     "input": [
      "# imshow - note that origin is at the top-left!\n",
      "plt.imshow(im)"
     ],
     "language": "python",
     "metadata": {},
     "outputs": []
    },
    {
     "cell_type": "code",
     "collapsed": false,
     "input": [
      "# Contour plot - note that origin here is at the bottom-left!\n",
      "plt.contour(im)"
     ],
     "language": "python",
     "metadata": {},
     "outputs": []
    }
   ],
   "metadata": {}
  }
 ]
}